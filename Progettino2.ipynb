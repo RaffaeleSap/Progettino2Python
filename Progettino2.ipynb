{
 "cells": [
  {
   "cell_type": "code",
   "execution_count": 1,
   "metadata": {},
   "outputs": [],
   "source": [
    "import Bio\n",
    "from Bio import SeqIO\n",
    "import numpy as np"
   ]
  },
  {
   "cell_type": "code",
   "execution_count": 2,
   "metadata": {},
   "outputs": [],
   "source": [
    "fastq_records = SeqIO.parse('input.fq', 'fastq') #FILE INPUT\n",
    "fastq_record_list = list(fastq_records)\n",
    "\n",
    "output = []"
   ]
  },
  {
   "cell_type": "code",
   "execution_count": 3,
   "metadata": {},
   "outputs": [],
   "source": [
    "def controllo_qualità_min(qualità):  #FUNZIONE CHE CONTROLLA SE CI SONO VALORI < Q1 E LI CONTA\n",
    "    count_min = 0\n",
    "    for value in qualità:\n",
    "        if value < int(Q1):\n",
    "            count_min += 1\n",
    "    return count_min\n",
    "\n",
    "def controllo_qualità_min_sub(qualità): #FUNZIONE CHE CONTROLLA SE CI SONO VALORI < Q2 E IN QUESTO CASO RITORNA FALSE \n",
    "    for value in qualità:\n",
    "        if value < int(Q2):\n",
    "            return False\n",
    "    return True"
   ]
  },
  {
   "cell_type": "code",
   "execution_count": null,
   "metadata": {},
   "outputs": [],
   "source": [
    "#INSERIMENTO DEI PARAMETRI INPUT (L1, L2, Q1, Q2, P)\n",
    "\n",
    "L1 = input('Inserisci il valore \"L1\": ')\n",
    "if L1.isnumeric() == False:\n",
    "    print('ERRORE: il valore deve essere numerico, riprova!')\n",
    "    \n",
    "while L1.isnumeric() == False:\n",
    "    L1 = input('Inserisci il valore \"L1\": ')\n",
    "    if L1.isnumeric() == False:\n",
    "        print('ERRORE: il valore deve essere numerico, riprova!')\n",
    "\n",
    "L2 = input('Inserisci il valore \"L2\": ')\n",
    "if L2.isnumeric() == False:\n",
    "    print('ERRORE: il valore deve essere numerico, riprova!')\n",
    "elif int(L2) <= int(L1):\n",
    "    print('ERRORE: il valore di L2 deve essere maggiore di L1, riprova!')\n",
    "    \n",
    "while L2.isnumeric() == False or int(L2) <= int(L1):\n",
    "    L2 = input('Inserisci il valore \"L2\": ')\n",
    "    if L2.isnumeric() == False:\n",
    "        print('ERRORE: il valore deve essere numerico, riprova!')\n",
    "    elif int(L2) <= int(L1):\n",
    "        print('ERRORE: il valore di L2 deve essere maggiore di L1, riprova!')\n",
    "\n",
    "Q1 = input('Inserisci il valore \"Q1\": ')\n",
    "if Q1.isnumeric() == False:\n",
    "    print('ERRORE: il valore deve essere numerico, riprova!')\n",
    "    \n",
    "while Q1.isnumeric() == False:\n",
    "    Q1 = input('Inserisci il valore \"Q1\": ')\n",
    "    if Q1.isnumeric() == False:\n",
    "        print('ERRORE: il valore deve essere numerico, riprova!')\n",
    "    \n",
    "Q2 = input('Inserisci il valore \"Q2\": ')\n",
    "if Q2.isnumeric() == False:\n",
    "    print('ERRORE: il valore deve essere numerico, riprova!')\n",
    "elif int(Q2) <= int(Q1):\n",
    "    print('ERRORE: il valore di Q2 deve essere maggiore di Q1, riprova!')\n",
    "    \n",
    "while Q2.isnumeric() == False or int(Q2) <= int(Q1):\n",
    "    Q2 = input('Inserisci il valore \"Q2\": ')\n",
    "    if Q2.isnumeric() == False:\n",
    "        print('ERRORE: il valore deve essere numerico, riprova!')\n",
    "    elif int(Q2) <= int(Q1):\n",
    "        print('ERRORE: il valore di Q2 deve essere maggiore di Q1, riprova!')\n",
    "        \n",
    "P = input('Inserisci il valore \"P\" (0-100): ')\n",
    "if P.isnumeric() == False or int(P) < 0 or int(P) > 100:\n",
    "    print('ERRORE: il valore deve essere numerico oppure hai inserito un valore fuori dal range [0-100], riprova!')\n",
    "    \n",
    "while P.isnumeric() == False or int(P) < 0 or int(P) > 100:\n",
    "    P = input('Inserisci il valore \"P\": ')\n",
    "    if P.isnumeric() == False:\n",
    "        print('ERRORE: il valore deve essere numerico oppure hai inserito un valore fuori dal range [0-100], riprova!')"
   ]
  },
  {
   "cell_type": "code",
   "execution_count": null,
   "metadata": {},
   "outputs": [],
   "source": [
    "for row in fastq_record_list:\n",
    "    flag_Q2 = False\n",
    "    id_row = row.id\n",
    "    lunghezza_read = len(row)\n",
    "    seq = str(row.seq)\n",
    "    qualità_list = row.letter_annotations.get(\"phred_quality\")\n",
    "    min_qualità = min(qualità_list)\n",
    "    under_min = controllo_qualità_min(qualità_list)\n",
    "    lunghezza_sub = int((lunghezza_read * int(P)) / 100)   #CALCOLO LUNGHEZZA DELLA SOTTOSEQUENZA \n",
    "    \n",
    "    for i in range(lunghezza_read - lunghezza_sub + 1):   #CICLO SU TUTTE LE POSSIBILI SOTTOSEQUENZE LUNGHE \"lunghezza_sub\"\n",
    "        sub = np.array(qualità_list[i:i+lunghezza_sub])\n",
    "        if controllo_qualità_min_sub(sub) == True:\n",
    "            flag_Q2 = True\n",
    "            media_sub = np.mean(sub)   \n",
    "            range_sub = [i,i+lunghezza_sub] #MEMORIZZO IL RANGE E LA MEDIA SOLO DELL'ULTIMA SOTTOSEQUENZA CON VALORE MINIMO > Q2 (ambiguità nel testo della consegna)\n",
    "        \n",
    "    if lunghezza_read >= int(L1) and lunghezza_read <= int(L2) and under_min == 0 and flag_Q2 == True:\n",
    "        fasta_row = \">\" + id_row + \" ; len = \" + str(lunghezza_read) + \" ; min_quality = \" + str(min_qualità) + \" ; range_sub = \" + str(range_sub) + \" ; media_sub = \" + str(media_sub) + ' \\n' + seq\n",
    "        output.append(fasta_row)"
   ]
  },
  {
   "cell_type": "code",
   "execution_count": null,
   "metadata": {},
   "outputs": [],
   "source": [
    "for a in output:\n",
    "    print(a)"
   ]
  }
 ],
 "metadata": {
  "kernelspec": {
   "display_name": "Python 3",
   "language": "python",
   "name": "python3"
  },
  "language_info": {
   "codemirror_mode": {
    "name": "ipython",
    "version": 3
   },
   "file_extension": ".py",
   "mimetype": "text/x-python",
   "name": "python",
   "nbconvert_exporter": "python",
   "pygments_lexer": "ipython3",
   "version": "3.8.3"
  }
 },
 "nbformat": 4,
 "nbformat_minor": 4
}
